{
 "cells": [
  {
   "cell_type": "code",
   "execution_count": 1,
   "metadata": {
    "collapsed": true
   },
   "outputs": [],
   "source": [
    "import os\n",
    "import os.path\n",
    "import subprocess\n",
    "import getopt\n",
    "import sys\n",
    "import math\n",
    "# from numpy import mean\n",
    "# from numpy import std\n",
    "from scipy.stats import pearsonr\n",
    "import operator\n",
    "import time\n",
    "import glob\n",
    "import numpy as np\n",
    "\n",
    "def runCMD(cmd):\n",
    "    val = subprocess.Popen(cmd, shell=True).wait()\n",
    "    if val == 0:\n",
    "        pass\n",
    "    else:\n",
    "        print ('command failed')\n",
    "        print (cmd)\n",
    "        sys.exit(1)\n"
   ]
  },
  {
   "cell_type": "code",
   "execution_count": 2,
   "metadata": {
    "collapsed": true
   },
   "outputs": [],
   "source": [
    "def runMR(id1,id2):\n",
    "    mranks = ranka[id1][id2] * ranka[id2][id1]\n",
    "    mr = np.round(np.sqrt(mranks), 3)\n",
    "\n",
    "    mra[id1][id2] = mr\n"
   ]
  },
  {
   "cell_type": "code",
   "execution_count": 10,
   "metadata": {},
   "outputs": [
    {
     "name": "stdout",
     "output_type": "stream",
     "text": [
      "Creating output directory: /tmp/1569287443.8788483 ...\n",
      "\n",
      "Writing to existing output directory: /depot/jwisecav/data/jwisecav/repo_testing/test_mr_6 ...\n",
      "\n"
     ]
    }
   ],
   "source": [
    "infile = '/depot/jwisecav/data/jwisecav/repo_testing/test.matrix'\n",
    "outdir = '/depot/jwisecav/data/jwisecav/repo_testing/test_mr_6'\n",
    "skipfile = '/depot/jwisecav/data/jwisecav/repo_testing/exclude_genes.txt'\n",
    "threads = 4\n",
    "t = time.time()\n",
    "tmpdir = '/tmp/' + str(t)\n",
    "\n",
    "if os.path.exists(tmpdir) == False:\n",
    "    cmd = 'mkdir ' + tmpdir\n",
    "    runCMD(cmd)\n",
    "    print('Creating output directory:', tmpdir, '...\\n')\n",
    "else:\n",
    "    print('Writing to existing output directory:', tmpdir, '...\\n')\n",
    "    \n",
    "if os.path.exists(outdir) == False:\n",
    "    cmd = 'mkdir ' + outdir\n",
    "    runCMD(cmd)\n",
    "    print('Creating output directory:', outdir, '...\\n')\n",
    "else:\n",
    "    print('Writing to existing output directory:', outdir, '...\\n')\n"
   ]
  },
  {
   "cell_type": "code",
   "execution_count": 11,
   "metadata": {
    "collapsed": true
   },
   "outputs": [],
   "source": [
    "tmpdir = '/tmp/1569279299.0313113'"
   ]
  },
  {
   "cell_type": "code",
   "execution_count": 12,
   "metadata": {},
   "outputs": [
    {
     "name": "stdout",
     "output_type": "stream",
     "text": [
      "Reading in gene expression values from /depot/jwisecav/data/jwisecav/repo_testing/test.matrix ...\n",
      "\n",
      "Skipping 2 genes...\n",
      "\n",
      "Creating gene lookup tables...\n",
      "\n",
      "Sevir.1G000100 0\n",
      "Sevir.1G000200 1\n",
      "Sevir.1G000300 2\n",
      "Sevir.1G000400 3\n",
      "Sevir.1G000501 4\n",
      "Sevir.1G000600 5\n",
      "Sevir.1G000650 6\n",
      "Sevir.1G001000 7\n",
      "Sevir.1G001100 8\n",
      "Sevir.1G001200 9\n",
      "Sevir.1G001300 10\n",
      "Sevir.1G001400 11\n",
      "Sevir.1G001500 12\n",
      "Sevir.1G001600 13\n",
      "Sevir.1G001700 14\n",
      "Sevir.1G001800 15\n",
      "Sevir.1G001900 16\n",
      "Sevir.1G002000 17\n",
      "Sevir.1G002100 18\n",
      "Sevir.1G002200 19\n",
      "Sevir.1G002300 20\n",
      "Sevir.1G002400 21\n",
      "Sevir.1G002500 22\n",
      "Sevir.1G002600 23\n",
      "Sevir.1G002800 24\n",
      "Sevir.1G002900 25\n"
     ]
    }
   ],
   "source": [
    "expDict = {}\n",
    "header = 0\n",
    "\n",
    "fi = open(infile)\n",
    "print('Reading in gene expression values from', infile, '...\\n')\n",
    "for line in fi:\n",
    "    if header == 0:\n",
    "        header += 1\n",
    "        continue\n",
    "    \n",
    "    exp = line.rstrip().split('\\t')\n",
    "    gene = exp.pop(0)\n",
    "    exp = [float(i) for i in exp]\n",
    "    #print(gene, len(col))\n",
    "\n",
    "    expDict[gene] = exp\n",
    "    \n",
    "fi.close()\n",
    "\n",
    "try:\n",
    "    skipfile\n",
    "except NameError:\n",
    "    print('Skipping 0 genes...\\n')\n",
    "else:\n",
    "    fi = open(skipfile)\n",
    "    skipcount = 0\n",
    "    for gene in fi:\n",
    "        gene = gene.rstrip()\n",
    "        if gene in expDict:\n",
    "            del expDict[gene]\n",
    "            skipcount += 1\n",
    "    print('Skipping', skipcount, 'genes...\\n')\n",
    "\n",
    "    fi.close()\n",
    "\n",
    "print('Creating gene lookup tables...\\n')\n",
    "idlookup = {}\n",
    "genelookup = {}\n",
    "gid = 0\n",
    "for gene in expDict:\n",
    "    print(gene,gid)\n",
    "    idlookup[gene] = gid\n",
    "    genelookup[gid] = gene\n",
    "    gid = gid + 1 \n",
    "\n",
    "for gene in idlookup:\n",
    "    gid = idlookup[gene]\n",
    "    expDict[gid] = expDict.pop(gene)\n",
    "\n",
    "#print(expDict.keys())"
   ]
  },
  {
   "cell_type": "code",
   "execution_count": 18,
   "metadata": {},
   "outputs": [
    {
     "name": "stdout",
     "output_type": "stream",
     "text": [
      "[21, 22, 23, 24, 25]\n"
     ]
    }
   ],
   "source": [
    "subDict = {}\n",
    "num_genes = len(expDict)\n",
    "subcount = math.ceil(num_genes/threads)\n",
    "\n",
    "gct = 0\n",
    "tct = 1\n",
    "for gid in expDict:\n",
    "    gct += 1 \n",
    "    \n",
    "    if gct == 1:\n",
    "        subDict[tct] = []\n",
    "    \n",
    "    if gct > subcount:\n",
    "        gct = 1\n",
    "        tct += 1\n",
    "        subDict[tct] = []\n",
    "        \n",
    "    subDict[tct].append(gid)\n",
    "\n",
    "sum = 0\n",
    "for tct in subDict:\n",
    "    sublen = len(list(subDict[tct]))\n",
    "    sum = sum + sublen\n",
    "if num_genes != sum:\n",
    "    print('WARNING')\n",
    "    print('total genes:', num_genes)\n",
    "    print('total split genes:', sum)\n",
    "    \n",
    "#print(subDict[4])"
   ]
  },
  {
   "cell_type": "code",
   "execution_count": 7,
   "metadata": {},
   "outputs": [],
   "source": [
    "numgenes = len(idlookup)\n",
    "mra = np.zeros(shape=(numgenes,numgenes))\n",
    "ranka = np.zeros(shape=(numgenes,numgenes))\n",
    "\n",
    "for gid1 in range(0, numgenes):\n",
    "    for gid2 in range(0, numgenes):\n",
    "        corr,_ = pearsonr(expDict[gid1], expDict[gid2])\n",
    "        #print(gene1,gene2,corr)\n",
    "        mra[gid1][gid2] = corr\n",
    "        mra[gid2][gid1] = corr\n",
    "\n",
    "for gid1 in range(0, numgenes):    \n",
    "    count = 0\n",
    "    d = dict(enumerate(mra[gid1,]))\n",
    "    sorted_d = sorted(d.items(), key=operator.itemgetter(1), reverse = True)\n",
    "    \n",
    "    for gc in sorted_d:\n",
    "        gid2 = gc[0]\n",
    "        corr = gc[1]    \n",
    "        ranka[gid1][gid2] = count\n",
    "        count += 1\n",
    "\n",
    "for gid1 in range(0, numgenes):\n",
    "    for gid2 in range(0, numgenes):\n",
    "        if gid2 > gid1:\n",
    "            runMR(gid1,gid2)\n"
   ]
  },
  {
   "cell_type": "code",
   "execution_count": 8,
   "metadata": {},
   "outputs": [],
   "source": [
    "for gid1 in range(0, numgenes):\n",
    "    mrDict = {}\n",
    "    pccDict = {}\n",
    "\n",
    "    for gid2 in range(0, numgenes):\n",
    "        if gid1 == gid2:\n",
    "            continue\n",
    "\n",
    "        mr = ''\n",
    "        pcc = ''\n",
    "        if gid2 > gid1:\n",
    "            mr = mra[gid1][gid2]\n",
    "            pcc = mra[gid2][gid1]        \n",
    "        elif gid1 > gid2:\n",
    "            pcc = mra[gid1][gid2]\n",
    "            mr = mra[gid2][gid1]\n",
    "        \n",
    "        mrDict[gid2] = mr\n",
    "        pccDict[gid2] = pcc\n",
    "    \n",
    "    gene = genelookup[gid1]\n",
    "    outfile = outdir + '/' + gene\n",
    "    fo = open(outfile, 'w')\n",
    "\n",
    "    sorted_d = sorted(mrDict.items(), key=operator.itemgetter(1), reverse = False)\n",
    "    for gm in sorted_d:\n",
    "        [gid2, mr] = gm\n",
    "        gene2 = genelookup[int(gid2)]\n",
    "\n",
    "        line = gene2 + '\\t' + str(np.round(mr,3)) + '\\t' + str(pccDict[gid2]) + '\\n'\n",
    "        fo.write(line)\n",
    "    \n",
    "    fo.close()\n",
    "\n"
   ]
  },
  {
   "cell_type": "code",
   "execution_count": 9,
   "metadata": {},
   "outputs": [
    {
     "name": "stdout",
     "output_type": "stream",
     "text": [
      "Sevir.1G001000\t2.236\t0.33424565444399756\r\n",
      "Sevir.1G001900\t3.464\t0.31059174658961697\r\n",
      "Sevir.1G001500\t4.899\t0.24316493561426894\r\n",
      "Sevir.1G002100\t4.899\t0.18714644403051597\r\n",
      "Sevir.1G000501\t6.708\t0.033864351836590686\r\n",
      "Sevir.1G001200\t7.746\t-0.018905242979886508\r\n",
      "Sevir.1G002000\t7.746\t0.13985193705690513\r\n",
      "Sevir.1G002200\t7.937\t0.06741019136156762\r\n",
      "Sevir.1G000100\t8.062\t0.0015885192526926151\r\n",
      "Sevir.1G002400\t8.485\t0.1297360913039204\r\n",
      "Sevir.1G000400\t9.798\t0.00826162581407579\r\n",
      "Sevir.1G002900\t10.583\t0.051623190395410454\r\n",
      "Sevir.1G001400\t11.402\t0.031097042105359157\r\n",
      "Sevir.1G002600\t13.266\t0.014295633752603084\r\n",
      "Sevir.1G001300\t16.31\t-0.006962950897570396\r\n",
      "Sevir.1G000300\t16.492\t-0.01893308007559849\r\n",
      "Sevir.1G000600\t17.972\t-0.0271413609034647\r\n",
      "Sevir.1G001700\t19.0\t-0.035651246062497144\r\n",
      "Sevir.1G000650\t19.9\t-0.031124947771508173\r\n",
      "Sevir.1G001600\t19.975\t-0.059396104883355255\r\n",
      "Sevir.1G002300\t20.976\t-0.04386160052531114\r\n",
      "Sevir.1G002500\t21.448\t-0.11305303331108822\r\n",
      "Sevir.1G001100\t22.978\t-0.11854434806371451\r\n",
      "Sevir.1G000200\t23.452\t-0.17257546376046068\r\n",
      "Sevir.1G002800\t23.452\t-0.0942878182538545\r\n"
     ]
    }
   ],
   "source": [
    "! cat {outdir}/Sevir.1G001800"
   ]
  },
  {
   "cell_type": "code",
   "execution_count": 19,
   "metadata": {},
   "outputs": [
    {
     "name": "stdout",
     "output_type": "stream",
     "text": [
      "%(asctime)s: %(message)s\n"
     ]
    }
   ],
   "source": [
    "format = \"%(asctime)s: %(message)s\"\n",
    "print(format)"
   ]
  },
  {
   "cell_type": "code",
   "execution_count": null,
   "metadata": {
    "collapsed": true
   },
   "outputs": [],
   "source": []
  }
 ],
 "metadata": {
  "kernelspec": {
   "display_name": "Python (My Own Kernel)",
   "language": "python",
   "name": "env.jen.py37"
  },
  "language_info": {
   "codemirror_mode": {
    "name": "ipython",
    "version": 3
   },
   "file_extension": ".py",
   "mimetype": "text/x-python",
   "name": "python",
   "nbconvert_exporter": "python",
   "pygments_lexer": "ipython3",
   "version": "3.6.8"
  }
 },
 "nbformat": 4,
 "nbformat_minor": 2
}
