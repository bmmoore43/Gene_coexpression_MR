{
 "cells": [
  {
   "cell_type": "code",
   "execution_count": 1,
   "metadata": {
    "collapsed": true
   },
   "outputs": [],
   "source": [
    "import os\n",
    "import os.path\n",
    "import sys\n",
    "import getopt\n",
    "import glob\n",
    "import subprocess\n",
    "#import operator\n",
    "import numpy as np\n",
    "\n",
    "def runCMD(cmd):\n",
    "    val = subprocess.Popen(cmd, shell=True).wait()\n",
    "    if val == 0:\n",
    "        pass\n",
    "    else:\n",
    "        print ('command failed')\n",
    "        print (cmd)\n",
    "        sys.exit(1)"
   ]
  },
  {
   "cell_type": "markdown",
   "metadata": {},
   "source": [
    "def usage():\n",
    "    print('\\n  Usage: '+sys.argv[0]+' -i <mr directory> -c <cluster one jar> -d <decay> [-o <output base name> -w <min edge weight> -p <max pvalue> -q <min quality>')\n",
    "    print(\"    -i|--indir       <DIRECTORY> path to directory of gene mutual ranks\")\n",
    "    print(\"    -c|--clusterone  <FILE> path to clusterone jar file\")\n",
    "    print(\"    -d|--decay       <INTEGER> decay constant to use for calculating network\\n                        edge weights\")\n",
    "    print(\"    -o|--out         <NAME> base name for all output files (default = same as\\n                      input directory\")\n",
    "    print(\"    -w|--minweight   <FLOAT> minimum network edge weight (default = 0.01)\")\n",
    "    print(\"    -p|--maxpval     <FLOAT> retained modules must have p value less than or                          equal to this value (default = 1 to retain all modules)\")\n",
    "    print(\"    -q|--minqual     <FLOAT> retained modules must have weight greater than or\\n                      equal to this value (default = 0 to retain all modules)\")\n",
    "\n",
    "\n",
    "# Read in command line arguments\n",
    "try:\n",
    "    options, remainder = getopt.getopt(sys.argv[1:], 'hi:o:c:dpqw', ['help', 'indir=', 'out=', 'clusterone=', 'minweight', 'decay', 'maxpval', 'minqual'])\n",
    "except getopt.GetoptError as err:\n",
    "    # print help information and exit:\n",
    "    print(err)  # will print something like \"option -a not recognized\"\n",
    "    usage()\n",
    "    sys.exit(2)\n",
    "\n",
    "maxpval = 1\n",
    "minqual = 0\n",
    "basename = indir\n",
    "minweight = 0.01\n",
    "\n",
    "for opt, arg in options:\n",
    "    if opt in ('-h', '--help'):\n",
    "        usage()\n",
    "        sys.exit()\n",
    "    elif opt in ('-i', '--indir'):\n",
    "        indir = arg\n",
    "    elif opt in ('-c', '--clusterone'):\n",
    "        clusterone = arg\n",
    "    elif opt in ('-d', '--decay'):\n",
    "        decay = int(arg)\n",
    "    elif opt in ('-o', '--out'):\n",
    "        basename = arg\n",
    "    elif opt in ('-w', '--minweight'):\n",
    "        minweight = float(arg)\n",
    "    elif opt in ('-p', '--maxpval'):\n",
    "        maxpval = float(arg)\n",
    "    elif opt in ('-q', '--minqual'):\n",
    "        minqual = float(arg)\n",
    "command = \" \".join(sys.argv)\n",
    "\n",
    "try:\n",
    "    indir\n",
    "    clusterone\n",
    "    decay\n",
    "except NameError:\n",
    "    usage()\n",
    "    sys.exit(2)\n",
    "else:\n",
    "    print(\"\\nCOMMAND:\", command, '\\n')\n"
   ]
  },
  {
   "cell_type": "code",
   "execution_count": 2,
   "metadata": {},
   "outputs": [],
   "source": [
    "indir = '/depot/jwisecav/data/jwisecav/repo_testing/test_mr'\n",
    "clusterone = '/depot/jwisecav/apps/repo/coexp_scripts/scripts/cluster_one-1.0.jar'\n",
    "decay = 5\n",
    "\n",
    "maxpval = 1\n",
    "minqual = 0\n",
    "basename = indir\n",
    "minweight = 0.01\n",
    "\n",
    "abcfile = basename + '_' + f\"{decay:03d}\" + '.abc'\n",
    "csvfile = basename + '_' + f\"{decay:03d}\" + '.modules.csv'\n",
    "outfile = basename + '_' + f\"{decay:03d}\" + '.modules.txt'"
   ]
  },
  {
   "cell_type": "code",
   "execution_count": 3,
   "metadata": {},
   "outputs": [
    {
     "name": "stdout",
     "output_type": "stream",
     "text": [
      "/depot/jwisecav/data/jwisecav/repo_testing/test_mr_005.abc\n"
     ]
    }
   ],
   "source": [
    "print(abcfile)"
   ]
  },
  {
   "cell_type": "code",
   "execution_count": 4,
   "metadata": {},
   "outputs": [],
   "source": [
    "files = glob.glob(indir + '/*')\n",
    "fo = open(abcfile, 'w')\n",
    "for infile in files:\n",
    "    #print(infile)\n",
    "    gene1 = infile.split('/')[-1]\n",
    "    \n",
    "    fi = open(infile)\n",
    "    for line in fi:\n",
    "        [gene2, mr, pcc] = line.rstrip().split('\\t')\n",
    "        weight = np.exp(-1 * (float(mr) - 1) / decay)\n",
    "        \n",
    "        if weight < minweight:\n",
    "            #print('skipping', gene1,gene2,weight)\n",
    "            break\n",
    "        else:\n",
    "            fo.write(gene1 + '\\t' + gene2 + '\\t' + str(weight) + '\\n')\n",
    "    fi.close()\n",
    "fo.close()"
   ]
  },
  {
   "cell_type": "code",
   "execution_count": 5,
   "metadata": {},
   "outputs": [
    {
     "name": "stdout",
     "output_type": "stream",
     "text": [
      "\n",
      "clusterone command: java -jar /depot/jwisecav/apps/repo/coexp_scripts/scripts/cluster_one-1.0.jar /depot/jwisecav/data/jwisecav/repo_testing/test_mr_005.abc --output-format csv > /depot/jwisecav/data/jwisecav/repo_testing/test_mr_005.modules.csv \n",
      "\n"
     ]
    }
   ],
   "source": [
    "command = 'java -jar ' + clusterone + ' ' + abcfile + ' --output-format csv > ' + csvfile\n",
    "print('\\nclusterone command:', command, '\\n')\n",
    "runCMD(command)"
   ]
  },
  {
   "cell_type": "code",
   "execution_count": 6,
   "metadata": {},
   "outputs": [],
   "source": [
    "fi = open(csvfile)\n",
    "fo = open(outfile, 'w')\n",
    "\n",
    "for line in fi:\n",
    "    line = line.rstrip().split(',')\n",
    "    if line[0] == 'Cluster':\n",
    "        continue\n",
    "    \n",
    "    mod = line[0]\n",
    "    mod = 'N'+ f\"{decay:03d}\" + 'M' + f\"{int(mod):05d}\"\n",
    "    #print(mod)\n",
    "\n",
    "    qual = line[5]\n",
    "    pval = line[6]\n",
    "    if float(qual) < minqual:\n",
    "        continue\n",
    "    if float(pval) > maxpval:\n",
    "        continue\n",
    "\n",
    "    genes = line[7]\n",
    "    genes = genes.replace('\"', '')\n",
    "    fo.write(mod + '\\t' + qual + '\\t' + pval + '\\t' + genes + '\\n')\n",
    "    \n",
    "fi.close()\n",
    "fo.close()"
   ]
  },
  {
   "cell_type": "code",
   "execution_count": null,
   "metadata": {
    "collapsed": true
   },
   "outputs": [],
   "source": []
  }
 ],
 "metadata": {
  "kernelspec": {
   "display_name": "Python (My Own Kernel)",
   "language": "python",
   "name": "env.jen.py37"
  },
  "language_info": {
   "codemirror_mode": {
    "name": "ipython",
    "version": 3
   },
   "file_extension": ".py",
   "mimetype": "text/x-python",
   "name": "python",
   "nbconvert_exporter": "python",
   "pygments_lexer": "ipython3",
   "version": "3.6.8"
  }
 },
 "nbformat": 4,
 "nbformat_minor": 2
}
