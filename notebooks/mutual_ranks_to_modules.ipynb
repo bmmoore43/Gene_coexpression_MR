{
 "cells": [
  {
   "cell_type": "markdown",
   "metadata": {},
   "source": [
    "# Calculate mutual ranks and call modules of co-expressed genes\n",
    "## Jen Wisecaver\n",
    "#### 2019-09-23\n",
    "This tutorial walks through \n",
    "1. Preparing a gene-level expression matrix \n",
    "2. Calculate pairwise Pearson's correlation coefficients (PCCs) \n",
    "3. Transform PCCs to mutual ranks (MRs)\n",
    "4. Identify co-expressed gene modules"
   ]
  },
  {
   "cell_type": "markdown",
   "metadata": {},
   "source": [
    "## Step 1: Create expression matrices \n",
    "This step uses R to prepare a gene-level expression matrix based on transcript-level abundance estimates output from Kallisto. There are several input files to prepare for this step. I strongly recommend going through the [transform counts jupyter notebook tutorial](https://github.rcac.purdue.edu/jwisecav/coexp-pipe/blob/master/notebooks/transform_counts.ipynb) BEFORE to running `transform_counts.r`, because it walks you through preparing these input files and describes the different normalization/transformation sub-steps that are being performed under the hood. "
   ]
  },
  {
   "cell_type": "code",
   "execution_count": 2,
   "metadata": {},
   "outputs": [
    {
     "name": "stdout",
     "output_type": "stream",
     "text": [
      "\n",
      "Lmod is automatically replacing \"intel/17.0.1.132\" with \"gcc/6.3.0\".\n",
      "\n",
      "\n",
      "Inactive Modules:\n",
      "  1) impi/2017.1.132\n",
      "\n"
     ]
    }
   ],
   "source": [
    "module load r"
   ]
  },
  {
   "cell_type": "code",
   "execution_count": 3,
   "metadata": {},
   "outputs": [
    {
     "name": "stdout",
     "output_type": "stream",
     "text": [
      "Usage: ../scripts/transform_counts.r [-[-help|h]] [-[-abundances|a] <character>] [-[-lookup|l] <character>] [-[-samples|s] <character>] [-[-seqtype|t] <character>]\n",
      "    -h|--help          \n",
      "    -a|--abundances    Enter list of abundance estimates from Kallisto (see jupyter notebook tutorial)\n",
      "    -l|--lookup        Enter transcript to gene lookup file (see jupyter notebook tutorial)\n",
      "    -s|--samples       Enter experimental design file (see jupyter notebook tutorial)\n",
      "    -t|--seqtype       Full-length or 3 prime tagged RNAseq? Enter [Full/full/F/f or Tag/tag/T/t]\n"
     ]
    },
    {
     "ename": "",
     "evalue": "1",
     "output_type": "error",
     "traceback": []
    }
   ],
   "source": [
    "Rscript ../scripts/transform_counts.r"
   ]
  },
  {
   "cell_type": "code",
   "execution_count": 5,
   "metadata": {},
   "outputs": [
    {
     "name": "stdout",
     "output_type": "stream",
     "text": [
      "Read 10 items\n",
      "[1] \"tximport options: type = kallisto, tx2gene = tx2gene, countsFromAbundance =  no\"\n",
      "Error in tximport(files, type = \"kallisto\", tx2gene = tx2gene, countsFromAbundance = CFA) : \n",
      "  all(file.exists(files)) is not TRUE\n",
      "Calls: tximport -> stopifnot\n",
      "Execution halted\n"
     ]
    },
    {
     "ename": "",
     "evalue": "1",
     "output_type": "error",
     "traceback": []
    }
   ],
   "source": [
    "Rscript ../scripts/transform_counts.r -a ../tutorial/example/abundance_files.txt -l ../tutorial/example/transcripts2genes.txt -s ../tutorial/example/sample_conditions.txt -t tag"
   ]
  },
  {
   "cell_type": "code",
   "execution_count": null,
   "metadata": {},
   "outputs": [],
   "source": []
  }
 ],
 "metadata": {
  "kernelspec": {
   "display_name": "Bash",
   "language": "bash",
   "name": "bash"
  },
  "language_info": {
   "codemirror_mode": "shell",
   "file_extension": ".sh",
   "mimetype": "text/x-sh",
   "name": "bash"
  }
 },
 "nbformat": 4,
 "nbformat_minor": 2
}
